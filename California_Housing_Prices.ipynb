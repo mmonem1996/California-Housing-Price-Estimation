{
  "nbformat": 4,
  "nbformat_minor": 0,
  "metadata": {
    "colab": {
      "name": "California Housing Prices.ipynb",
      "provenance": [],
      "collapsed_sections": [],
      "authorship_tag": "ABX9TyOErCcpBaZhG6YFkxKqgewB",
      "include_colab_link": true
    },
    "kernelspec": {
      "display_name": "Python 3",
      "name": "python3"
    },
    "language_info": {
      "name": "python"
    }
  },
  "cells": [
    {
      "cell_type": "markdown",
      "metadata": {
        "id": "view-in-github",
        "colab_type": "text"
      },
      "source": [
        "<a href=\"https://colab.research.google.com/github/mmonem1996/California-Housing-Price-Estimation/blob/main/California_Housing_Prices.ipynb\" target=\"_parent\"><img src=\"https://colab.research.google.com/assets/colab-badge.svg\" alt=\"Open In Colab\"/></a>"
      ]
    },
    {
      "cell_type": "markdown",
      "metadata": {
        "id": "MRjvIx5_sXya"
      },
      "source": [
        "# Introduction\n",
        "**Objective:** This analysis aims to test the performance of several linear regression models on california housing data to estimate houses prices.\n",
        "\n",
        "**California Housing Data:** This is a sample data available on Google Colab IPython engine. the data contains information on households in California ( houses main characteristic, median family income and house median value). The target variable in this analysis will be *median_house_value* whereas all other columns will be regarded as features."
      ]
    },
    {
      "cell_type": "code",
      "metadata": {
        "id": "SsBqbIsg_Nd4"
      },
      "source": [
        "import pandas as pd\n",
        "import numpy as np\n",
        "import matplotlib.pyplot as plt\n",
        "import seaborn as sns\n",
        "from sklearn.preprocessing import StandardScaler, PolynomialFeatures\n",
        "from sklearn.linear_model import LinearRegression, Ridge, Lasso\n",
        "from sklearn.model_selection import KFold, cross_val_predict\n",
        "from sklearn.metrics import mean_squared_error, r2_score\n",
        "from sklearn.pipeline import Pipeline\n",
        "\n",
        "def rmse(y, y_pred):\n",
        "  return np.sqrt(mean_squared_error(y, y_pred))\n",
        "\n",
        "%matplotlib inline"
      ],
      "execution_count": null,
      "outputs": []
    },
    {
      "cell_type": "code",
      "metadata": {
        "id": "acWJpw4t_9y9"
      },
      "source": [
        "data = pd.read_csv(\"/content/sample_data/california_housing_train.csv\")\n",
        "test_data = pd.read_csv(\"/content/sample_data/california_housing_test.csv\")"
      ],
      "execution_count": null,
      "outputs": []
    },
    {
      "cell_type": "code",
      "metadata": {
        "colab": {
          "base_uri": "https://localhost:8080/",
          "height": 204
        },
        "id": "jJoNsbf0AOci",
        "outputId": "46c29800-772c-4c44-e130-78ece2e98e50"
      },
      "source": [
        "data.head()"
      ],
      "execution_count": null,
      "outputs": [
        {
          "output_type": "execute_result",
          "data": {
            "text/html": [
              "<div>\n",
              "<style scoped>\n",
              "    .dataframe tbody tr th:only-of-type {\n",
              "        vertical-align: middle;\n",
              "    }\n",
              "\n",
              "    .dataframe tbody tr th {\n",
              "        vertical-align: top;\n",
              "    }\n",
              "\n",
              "    .dataframe thead th {\n",
              "        text-align: right;\n",
              "    }\n",
              "</style>\n",
              "<table border=\"1\" class=\"dataframe\">\n",
              "  <thead>\n",
              "    <tr style=\"text-align: right;\">\n",
              "      <th></th>\n",
              "      <th>longitude</th>\n",
              "      <th>latitude</th>\n",
              "      <th>housing_median_age</th>\n",
              "      <th>total_rooms</th>\n",
              "      <th>total_bedrooms</th>\n",
              "      <th>population</th>\n",
              "      <th>households</th>\n",
              "      <th>median_income</th>\n",
              "      <th>median_house_value</th>\n",
              "    </tr>\n",
              "  </thead>\n",
              "  <tbody>\n",
              "    <tr>\n",
              "      <th>0</th>\n",
              "      <td>-114.31</td>\n",
              "      <td>34.19</td>\n",
              "      <td>15.0</td>\n",
              "      <td>5612.0</td>\n",
              "      <td>1283.0</td>\n",
              "      <td>1015.0</td>\n",
              "      <td>472.0</td>\n",
              "      <td>1.4936</td>\n",
              "      <td>66900.0</td>\n",
              "    </tr>\n",
              "    <tr>\n",
              "      <th>1</th>\n",
              "      <td>-114.47</td>\n",
              "      <td>34.40</td>\n",
              "      <td>19.0</td>\n",
              "      <td>7650.0</td>\n",
              "      <td>1901.0</td>\n",
              "      <td>1129.0</td>\n",
              "      <td>463.0</td>\n",
              "      <td>1.8200</td>\n",
              "      <td>80100.0</td>\n",
              "    </tr>\n",
              "    <tr>\n",
              "      <th>2</th>\n",
              "      <td>-114.56</td>\n",
              "      <td>33.69</td>\n",
              "      <td>17.0</td>\n",
              "      <td>720.0</td>\n",
              "      <td>174.0</td>\n",
              "      <td>333.0</td>\n",
              "      <td>117.0</td>\n",
              "      <td>1.6509</td>\n",
              "      <td>85700.0</td>\n",
              "    </tr>\n",
              "    <tr>\n",
              "      <th>3</th>\n",
              "      <td>-114.57</td>\n",
              "      <td>33.64</td>\n",
              "      <td>14.0</td>\n",
              "      <td>1501.0</td>\n",
              "      <td>337.0</td>\n",
              "      <td>515.0</td>\n",
              "      <td>226.0</td>\n",
              "      <td>3.1917</td>\n",
              "      <td>73400.0</td>\n",
              "    </tr>\n",
              "    <tr>\n",
              "      <th>4</th>\n",
              "      <td>-114.57</td>\n",
              "      <td>33.57</td>\n",
              "      <td>20.0</td>\n",
              "      <td>1454.0</td>\n",
              "      <td>326.0</td>\n",
              "      <td>624.0</td>\n",
              "      <td>262.0</td>\n",
              "      <td>1.9250</td>\n",
              "      <td>65500.0</td>\n",
              "    </tr>\n",
              "  </tbody>\n",
              "</table>\n",
              "</div>"
            ],
            "text/plain": [
              "   longitude  latitude  ...  median_income  median_house_value\n",
              "0    -114.31     34.19  ...         1.4936             66900.0\n",
              "1    -114.47     34.40  ...         1.8200             80100.0\n",
              "2    -114.56     33.69  ...         1.6509             85700.0\n",
              "3    -114.57     33.64  ...         3.1917             73400.0\n",
              "4    -114.57     33.57  ...         1.9250             65500.0\n",
              "\n",
              "[5 rows x 9 columns]"
            ]
          },
          "metadata": {
            "tags": []
          },
          "execution_count": 3
        }
      ]
    },
    {
      "cell_type": "markdown",
      "metadata": {
        "id": "0RZ7eKOljLKf"
      },
      "source": [
        "# Data Pre-processing"
      ]
    },
    {
      "cell_type": "markdown",
      "metadata": {
        "id": "n-xEZKSshu3u"
      },
      "source": [
        "All of features are of type float. Therefore, we don't need to encode any feature into numerical data. However, we will check if skewness is present"
      ]
    },
    {
      "cell_type": "code",
      "metadata": {
        "colab": {
          "base_uri": "https://localhost:8080/"
        },
        "id": "_8b1O9pwAQkM",
        "outputId": "ba475bd5-a120-4bec-fcc5-bd2da160bbb9"
      },
      "source": [
        "data.info()"
      ],
      "execution_count": null,
      "outputs": [
        {
          "output_type": "stream",
          "text": [
            "<class 'pandas.core.frame.DataFrame'>\n",
            "RangeIndex: 17000 entries, 0 to 16999\n",
            "Data columns (total 9 columns):\n",
            " #   Column              Non-Null Count  Dtype  \n",
            "---  ------              --------------  -----  \n",
            " 0   longitude           17000 non-null  float64\n",
            " 1   latitude            17000 non-null  float64\n",
            " 2   housing_median_age  17000 non-null  float64\n",
            " 3   total_rooms         17000 non-null  float64\n",
            " 4   total_bedrooms      17000 non-null  float64\n",
            " 5   population          17000 non-null  float64\n",
            " 6   households          17000 non-null  float64\n",
            " 7   median_income       17000 non-null  float64\n",
            " 8   median_house_value  17000 non-null  float64\n",
            "dtypes: float64(9)\n",
            "memory usage: 1.2 MB\n"
          ],
          "name": "stdout"
        }
      ]
    },
    {
      "cell_type": "code",
      "metadata": {
        "colab": {
          "base_uri": "https://localhost:8080/",
          "height": 451
        },
        "id": "k5VyLzH6AV0T",
        "outputId": "dd71c0ba-8ef1-4b3d-cc3e-0bf4f0c53ae9"
      },
      "source": [
        "data.hist()"
      ],
      "execution_count": null,
      "outputs": [
        {
          "output_type": "execute_result",
          "data": {
            "text/plain": [
              "array([[<matplotlib.axes._subplots.AxesSubplot object at 0x7fa3cb6667d0>,\n",
              "        <matplotlib.axes._subplots.AxesSubplot object at 0x7fa3c7c00ed0>,\n",
              "        <matplotlib.axes._subplots.AxesSubplot object at 0x7fa3c7bc4590>],\n",
              "       [<matplotlib.axes._subplots.AxesSubplot object at 0x7fa3c7b79c10>,\n",
              "        <matplotlib.axes._subplots.AxesSubplot object at 0x7fa3c7b3b2d0>,\n",
              "        <matplotlib.axes._subplots.AxesSubplot object at 0x7fa3c7aef950>],\n",
              "       [<matplotlib.axes._subplots.AxesSubplot object at 0x7fa3c7ab1050>,\n",
              "        <matplotlib.axes._subplots.AxesSubplot object at 0x7fa3c7ae6690>,\n",
              "        <matplotlib.axes._subplots.AxesSubplot object at 0x7fa3c7a6fb90>]],\n",
              "      dtype=object)"
            ]
          },
          "metadata": {
            "tags": []
          },
          "execution_count": 4
        },
        {
          "output_type": "display_data",
          "data": {
            "image/png": "[encoded data removed]",
            "text/plain": [
              "<Figure size 432x288 with 9 Axes>"
            ]
          },
          "metadata": {
            "tags": [],
            "needs_background": "light"
          }
        }
      ]
    },
    {
      "cell_type": "markdown",
      "metadata": {
        "id": "fC3_QsCwiZR2"
      },
      "source": [
        "we have 5 columns which show skewed distribution. so *np.log1p* transformation will be used"
      ]
    },
    {
      "cell_type": "code",
      "metadata": {
        "id": "DAfEcSJyAjHk"
      },
      "source": [
        "skewed_cols = ['total_rooms', 'total_bedrooms', 'population', 'households', 'median_income']\n",
        "for col in skewed_cols:\n",
        "  data[col] = np.log1p(data[col])\n",
        "  test_data[col] = np.log1p(test_data[col])"
      ],
      "execution_count": null,
      "outputs": []
    },
    {
      "cell_type": "code",
      "metadata": {
        "colab": {
          "base_uri": "https://localhost:8080/",
          "height": 451
        },
        "id": "-mpFL1PBBvpl",
        "outputId": "45d73708-1954-400d-d90f-1536858640ae"
      },
      "source": [
        "data.hist()"
      ],
      "execution_count": null,
      "outputs": [
        {
          "output_type": "execute_result",
          "data": {
            "text/plain": [
              "array([[<matplotlib.axes._subplots.AxesSubplot object at 0x7fa3c73d2b90>,\n",
              "        <matplotlib.axes._subplots.AxesSubplot object at 0x7fa3c7369490>,\n",
              "        <matplotlib.axes._subplots.AxesSubplot object at 0x7fa3c738bad0>],\n",
              "       [<matplotlib.axes._subplots.AxesSubplot object at 0x7fa3c734c190>,\n",
              "        <matplotlib.axes._subplots.AxesSubplot object at 0x7fa3c72ff810>,\n",
              "        <matplotlib.axes._subplots.AxesSubplot object at 0x7fa3c72b5e90>],\n",
              "       [<matplotlib.axes._subplots.AxesSubplot object at 0x7fa3c7279550>,\n",
              "        <matplotlib.axes._subplots.AxesSubplot object at 0x7fa3c722dbd0>,\n",
              "        <matplotlib.axes._subplots.AxesSubplot object at 0x7fa3c7243110>]],\n",
              "      dtype=object)"
            ]
          },
          "metadata": {
            "tags": []
          },
          "execution_count": 6
        },
        {
          "output_type": "display_data",
          "data": {
            "image/png": "[encoded data removed]",
            "text/plain": [
              "<Figure size 432x288 with 9 Axes>"
            ]
          },
          "metadata": {
            "tags": [],
            "needs_background": "light"
          }
        }
      ]
    },
    {
      "cell_type": "code",
      "metadata": {
        "id": "1HdsqFm0AZ2D"
      },
      "source": [
        "X = data.drop('median_house_value', axis=1)\n",
        "Xtest  = test_data.drop('median_house_value', axis=1)\n",
        "\n",
        "y = data['median_house_value']\n",
        "ytest = test_data['median_house_value']"
      ],
      "execution_count": null,
      "outputs": []
    },
    {
      "cell_type": "markdown",
      "metadata": {
        "id": "bQRRMye7jBcl"
      },
      "source": [
        "# Machine Learning Models Analysis"
      ]
    },
    {
      "cell_type": "code",
      "metadata": {
        "id": "EYNZ2znwmOWX"
      },
      "source": [
        "# this dict will contain the results of all models\n",
        "analysis_results = {}"
      ],
      "execution_count": null,
      "outputs": []
    },
    {
      "cell_type": "markdown",
      "metadata": {
        "id": "qjZN2mTwnhPm"
      },
      "source": [
        "## Standard Linear Regression"
      ]
    },
    {
      "cell_type": "code",
      "metadata": {
        "id": "radLd1PqsioL"
      },
      "source": [
        "kf = KFold(n_splits=3, shuffle=True)"
      ],
      "execution_count": null,
      "outputs": []
    },
    {
      "cell_type": "code",
      "metadata": {
        "id": "Dzqns4a2Aydr"
      },
      "source": [
        "lr = LinearRegression()"
      ],
      "execution_count": null,
      "outputs": []
    },
    {
      "cell_type": "code",
      "metadata": {
        "colab": {
          "base_uri": "https://localhost:8080/"
        },
        "id": "xEH1aXwkCTzE",
        "outputId": "2d87a0fe-e7ba-4b28-a7d3-8adcf41d1ce8"
      },
      "source": [
        "y_pred = cross_val_predict(lr, X ,y,cv= kf)\n",
        "rmse_ = np.round(rmse(y, y_pred ))\n",
        "score = r2_score(y , y_pred)\n",
        "print(\"Root mean squared error (Training) = {0:,}\".format(rmse_))\n",
        "print(\"R2 Score (Training) = {:0.2f}\".format(score))\n",
        "analysis_results['Linear Regression'] = [score, rmse_]"
      ],
      "execution_count": null,
      "outputs": [
        {
          "output_type": "stream",
          "text": [
            "Root mean squared error (Training) = 69,645.0\n",
            "R2 Score (Training) = 0.64\n"
          ],
          "name": "stdout"
        }
      ]
    },
    {
      "cell_type": "markdown",
      "metadata": {
        "id": "GboDIf5bFYtz"
      },
      "source": [
        "## Linear Regression With Polynomial features"
      ]
    },
    {
      "cell_type": "markdown",
      "metadata": {
        "id": "wLqcji136Q1q"
      },
      "source": [
        "We can see from below when adding new features using PolynomialsFeatures, the model performed much worse than the standard linear regression. This suggests that the drop in accuracy is probably due to high variance.\n",
        "\n",
        "We will test the data against Ridge and Lasso Regression models to find the best regularized model"
      ]
    },
    {
      "cell_type": "code",
      "metadata": {
        "id": "To7sq_LxFl_7"
      },
      "source": [
        "prf = PolynomialFeatures(degree=4)\n",
        "X_poly = prf.fit_transform(X)\n",
        "lrp = LinearRegression()"
      ],
      "execution_count": null,
      "outputs": []
    },
    {
      "cell_type": "code",
      "metadata": {
        "colab": {
          "base_uri": "https://localhost:8080/"
        },
        "id": "nvKskEPvGjO7",
        "outputId": "726fa8fc-3ad8-457b-d12c-728f3bed46af"
      },
      "source": [
        "y_pred = cross_val_predict(lrp, X_poly , y, cv=kf)\n",
        "rmse_ = np.round(rmse(y, y_pred ))\n",
        "score = r2_score(y , y_pred)\n",
        "print(\"Root mean squared error (Training) = {0:,}\".format(rmse_))\n",
        "print(\"R2 Score (Training) = {:0.2f}\".format(score))\n",
        "analysis_results['Linear Regression (Polynomial Features)'] = [score, rmse_]"
      ],
      "execution_count": null,
      "outputs": [
        {
          "output_type": "stream",
          "text": [
            "Root mean squared error (Training) = 104,703.0\n",
            "R2 Score (Training) = 0.19\n"
          ],
          "name": "stdout"
        }
      ]
    },
    {
      "cell_type": "markdown",
      "metadata": {
        "id": "HetUTz2_R9v8"
      },
      "source": [
        "## Ridge Regression"
      ]
    },
    {
      "cell_type": "code",
      "metadata": {
        "id": "qiqMOBY7SLb8"
      },
      "source": [
        "import warnings\n",
        "warnings.filterwarnings('ignore', module='sklearn')\n",
        "np.set_printoptions(precision=3)"
      ],
      "execution_count": null,
      "outputs": []
    },
    {
      "cell_type": "code",
      "metadata": {
        "colab": {
          "background_save": true,
          "base_uri": "https://localhost:8080/"
        },
        "id": "ilz9t8dSTQzb",
        "outputId": "c2ce4ce6-dfd3-42bf-dd96-1ed196884d2d"
      },
      "source": [
        "alphas = np.geomspace(0.05, 1, 30)\n",
        "print('Ridge Regression Cross validation results')\n",
        "alphas_scores = []\n",
        "for alpha in alphas:\n",
        "  steps = [('Polynomial Features', PolynomialFeatures(degree=4)), \n",
        "         ('Standard Scalar', StandardScaler()),\n",
        "         ('Ridge', Ridge(alpha=alpha))]\n",
        "  ppr = Pipeline(steps)\n",
        "  ypred = cross_val_predict(ppr, X, y, cv=kf)\n",
        "  score = r2_score(y , ypred)\n",
        "  alphas_scores.append((alpha, score))\n",
        "  result = (alpha, np.round(rmse(y, ypred )), score)\n",
        "  print('For alpha = {}\\tRMSE = {:,}\\t R2 Score = {:0.2f}'.format(*result))\n",
        "# print('Regression Results')\n",
        "# print(\"Root mean squared error (Testing) = {0:,}\".format(np.round(rmse(ytest, ytest_pred ))))\n",
        "# print(\"R2 Score (Testing) = {:0.2f}\".format(r2_score(ytest , ytest_pred)))"
      ],
      "execution_count": null,
      "outputs": [
        {
          "output_type": "stream",
          "text": [
            "Ridge Regression Cross validation results\n",
            "For alpha = 0.1\tRMSE = 58,704.0\t R2 Score = 0.74\n",
            "For alpha = 0.11088252403758786\tRMSE = 59,013.0\t R2 Score = 0.74\n",
            "For alpha = 0.12294934136946249\tRMSE = 58,997.0\t R2 Score = 0.74\n",
            "For alpha = 0.1363293329980502\tRMSE = 59,074.0\t R2 Score = 0.74\n",
            "For alpha = 0.1511654054318462\tRMSE = 59,540.0\t R2 Score = 0.74\n",
            "For alpha = 0.167616017014484\tRMSE = 58,989.0\t R2 Score = 0.74\n",
            "For alpha = 0.18585687035693257\tRMSE = 58,962.0\t R2 Score = 0.74\n",
            "For alpha = 0.2060827889490342\tRMSE = 59,203.0\t R2 Score = 0.74\n",
            "For alpha = 0.22850979799374438\tRMSE = 59,118.0\t R2 Score = 0.74\n",
            "For alpha = 0.253377431688657\tRMSE = 59,012.0\t R2 Score = 0.74\n",
            "For alpha = 0.2809512915979979\tRMSE = 59,016.0\t R2 Score = 0.74\n",
            "For alpha = 0.3115258834400635\tRMSE = 59,238.0\t R2 Score = 0.74\n",
            "For alpha = 0.34542776258873636\tRMSE = 59,159.0\t R2 Score = 0.74\n",
            "For alpha = 0.3830190218849575\tRMSE = 59,283.0\t R2 Score = 0.74\n",
            "For alpha = 0.4247011590101219\tRMSE = 59,600.0\t R2 Score = 0.74\n",
            "For alpha = 0.4709193647273126\tRMSE = 59,664.0\t R2 Score = 0.74\n",
            "For alpha = 0.5221672777914185\tRMSE = 59,468.0\t R2 Score = 0.74\n",
            "For alpha = 0.5789922573134877\tRMSE = 59,624.0\t R2 Score = 0.74\n",
            "For alpha = 0.6420012288914005\tRMSE = 59,576.0\t R2 Score = 0.74\n",
            "For alpha = 0.7118671669471166\tRMSE = 59,717.0\t R2 Score = 0.73\n",
            "For alpha = 0.7893362825058323\tRMSE = 59,551.0\t R2 Score = 0.74\n",
            "For alpha = 0.8752359931869319\tRMSE = 60,175.0\t R2 Score = 0.73\n",
            "For alpha = 0.9704837605311205\tRMSE = 59,531.0\t R2 Score = 0.74\n",
            "For alpha = 1.0760968890518063\tRMSE = 59,914.0\t R2 Score = 0.73\n",
            "For alpha = 1.193203391670604\tRMSE = 59,467.0\t R2 Score = 0.74\n",
            "For alpha = 1.3230540375864714\tRMSE = 59,648.0\t R2 Score = 0.74\n",
            "For alpha = 1.4670357112570953\tRMSE = 59,433.0\t R2 Score = 0.74\n",
            "For alpha = 1.6266862251746472\tRMSE = 59,621.0\t R2 Score = 0.74\n",
            "For alpha = 1.8037107446454084\tRMSE = 59,721.0\t R2 Score = 0.73\n",
            "For alpha = 2.0\tRMSE = 59,613.0\t R2 Score = 0.74\n"
          ],
          "name": "stdout"
        }
      ]
    },
    {
      "cell_type": "code",
      "metadata": {
        "colab": {
          "base_uri": "https://localhost:8080/"
        },
        "id": "KlieeMw7nyYu",
        "outputId": "4e1f645a-9413-47e1-da72-6e11bb649ac3"
      },
      "source": [
        "# Best Ridge model\n",
        "steps = [('Polynomial Features', PolynomialFeatures(degree=4)), \n",
        "         ('Standard Scalar', StandardScaler()),\n",
        "         ('Ridge', Ridge(alpha=0.1856))]\n",
        "\n",
        "ppr = Pipeline(steps)\n",
        "y_pred = cross_val_predict(ppr, X, y, cv=kf)\n",
        "rmse_ = np.round(rmse(y, y_pred ))\n",
        "score = r2_score(y , y_pred)\n",
        "print(\"Root mean squared error (Training) = {0:,}\".format(rmse_))\n",
        "print(\"R2 Score (Training) = {:0.2f}\".format(score))\n",
        "analysis_results['Ridge Regression'] = [score, rmse_]"
      ],
      "execution_count": null,
      "outputs": [
        {
          "output_type": "stream",
          "text": [
            "Root mean squared error (Training) = 58,998.0\n",
            "R2 Score (Training) = 0.74\n"
          ],
          "name": "stdout"
        }
      ]
    },
    {
      "cell_type": "code",
      "metadata": {
        "colab": {
          "base_uri": "https://localhost:8080/"
        },
        "id": "7YAYP-QlpJ5O",
        "outputId": "fa344baf-71f1-4cc2-9eec-c84546c44d9d"
      },
      "source": [
        "analysis_results"
      ],
      "execution_count": null,
      "outputs": [
        {
          "output_type": "execute_result",
          "data": {
            "text/plain": [
              "{'Linear Regression': [0.6394129048489874, 69645.0],\n",
              " 'Linear Regression (Polynomial Features)': [0.18501414965528895, 104703.0],\n",
              " 'Ridge Regression': [0.7412368522748851, 58998.0]}"
            ]
          },
          "metadata": {
            "tags": []
          },
          "execution_count": 33
        }
      ]
    },
    {
      "cell_type": "markdown",
      "metadata": {
        "id": "geRB7HZ5y2T7"
      },
      "source": [
        "## Lasso Regression"
      ]
    },
    {
      "cell_type": "code",
      "metadata": {
        "colab": {
          "base_uri": "https://localhost:8080/"
        },
        "id": "IQZ6YoZhy7Ba",
        "outputId": "713a5b8f-17ef-4629-bd12-44d4ac822ed5"
      },
      "source": [
        "alphas = np.geomspace(0.1, 2, 30)\n",
        "print('Lasso Regression Cross validation results')\n",
        "alphas_scores = []\n",
        "for alpha in alphas:\n",
        "  steps = [('Polynomial Features', PolynomialFeatures(degree=4)), \n",
        "         ('Standard Scalar', StandardScaler()),\n",
        "         ('Lasso', Lasso(alpha=alpha))]\n",
        "  ppl = Pipeline(steps)\n",
        "  ypred = cross_val_predict(ppl, X, y, cv=kf)\n",
        "  score = r2_score(y , ypred)\n",
        "  alphas_scores.append((alpha, score))\n",
        "  result = (alpha, np.round(rmse(y, ypred )), score)\n",
        "  print('For alpha = {}\\tRMSE = {:,}\\t R2 Score = {:0.2f}'.format(*result))"
      ],
      "execution_count": null,
      "outputs": [
        {
          "output_type": "stream",
          "text": [
            "Lasso Regression Cross validation results\n",
            "For alpha = 0.1\tRMSE = 60,977.0\t R2 Score = 0.72\n",
            "For alpha = 0.11088252403758786\tRMSE = 60,807.0\t R2 Score = 0.73\n",
            "For alpha = 0.12294934136946249\tRMSE = 60,900.0\t R2 Score = 0.72\n",
            "For alpha = 0.1363293329980502\tRMSE = 60,807.0\t R2 Score = 0.73\n",
            "For alpha = 0.1511654054318462\tRMSE = 60,979.0\t R2 Score = 0.72\n",
            "For alpha = 0.167616017014484\tRMSE = 60,892.0\t R2 Score = 0.72\n",
            "For alpha = 0.18585687035693257\tRMSE = 61,020.0\t R2 Score = 0.72\n",
            "For alpha = 0.2060827889490342\tRMSE = 60,934.0\t R2 Score = 0.72\n",
            "For alpha = 0.22850979799374438\tRMSE = 61,298.0\t R2 Score = 0.72\n",
            "For alpha = 0.253377431688657\tRMSE = 61,350.0\t R2 Score = 0.72\n",
            "For alpha = 0.2809512915979979\tRMSE = 61,069.0\t R2 Score = 0.72\n",
            "For alpha = 0.3115258834400635\tRMSE = 61,021.0\t R2 Score = 0.72\n",
            "For alpha = 0.34542776258873636\tRMSE = 61,043.0\t R2 Score = 0.72\n",
            "For alpha = 0.3830190218849575\tRMSE = 60,896.0\t R2 Score = 0.72\n",
            "For alpha = 0.4247011590101219\tRMSE = 60,891.0\t R2 Score = 0.72\n",
            "For alpha = 0.4709193647273126\tRMSE = 60,747.0\t R2 Score = 0.73\n",
            "For alpha = 0.5221672777914185\tRMSE = 61,001.0\t R2 Score = 0.72\n",
            "For alpha = 0.5789922573134877\tRMSE = 60,956.0\t R2 Score = 0.72\n",
            "For alpha = 0.6420012288914005\tRMSE = 60,986.0\t R2 Score = 0.72\n",
            "For alpha = 0.7118671669471166\tRMSE = 60,810.0\t R2 Score = 0.73\n",
            "For alpha = 0.7893362825058323\tRMSE = 61,003.0\t R2 Score = 0.72\n",
            "For alpha = 0.8752359931869319\tRMSE = 60,954.0\t R2 Score = 0.72\n",
            "For alpha = 0.9704837605311205\tRMSE = 61,120.0\t R2 Score = 0.72\n",
            "For alpha = 1.0760968890518063\tRMSE = 61,074.0\t R2 Score = 0.72\n",
            "For alpha = 1.193203391670604\tRMSE = 60,991.0\t R2 Score = 0.72\n",
            "For alpha = 1.3230540375864714\tRMSE = 61,012.0\t R2 Score = 0.72\n",
            "For alpha = 1.4670357112570953\tRMSE = 60,973.0\t R2 Score = 0.72\n",
            "For alpha = 1.6266862251746472\tRMSE = 60,972.0\t R2 Score = 0.72\n",
            "For alpha = 1.8037107446454084\tRMSE = 61,204.0\t R2 Score = 0.72\n",
            "For alpha = 2.0\tRMSE = 61,280.0\t R2 Score = 0.72\n"
          ],
          "name": "stdout"
        }
      ]
    },
    {
      "cell_type": "code",
      "metadata": {
        "colab": {
          "base_uri": "https://localhost:8080/"
        },
        "id": "6JfUrBSEoycA",
        "outputId": "a8c84c0d-05a4-4ff0-90fc-41024515231b"
      },
      "source": [
        "# Best Lasso model\n",
        "steps = [('Polynomial Features', PolynomialFeatures(degree=4)), \n",
        "         ('Standard Scalar', StandardScaler()),\n",
        "         ('Lasso', Lasso(alpha=0.1363))]\n",
        "\n",
        "ppl = Pipeline(steps)\n",
        "y_pred = cross_val_predict(ppl, X, y, cv=kf)\n",
        "rmse_ = np.round(rmse(y, y_pred ))\n",
        "score = r2_score(y , y_pred)\n",
        "print(\"Root mean squared error (Training) = {0:,}\".format(rmse_))\n",
        "print(\"R2 Score (Training) = {:0.2f}\".format(score))\n",
        "analysis_results['Lasso Regression'] = [score, rmse_]"
      ],
      "execution_count": null,
      "outputs": [
        {
          "output_type": "stream",
          "text": [
            "Root mean squared error (Training) = 61,009.0\n",
            "R2 Score (Training) = 0.72\n"
          ],
          "name": "stdout"
        }
      ]
    },
    {
      "cell_type": "markdown",
      "metadata": {
        "id": "LrHMV9aL59Kb"
      },
      "source": [
        "## Best Model (Ridge with alpha value of 0.1856)"
      ]
    },
    {
      "cell_type": "code",
      "metadata": {
        "colab": {
          "base_uri": "https://localhost:8080/"
        },
        "id": "QmpsystK5UAb",
        "outputId": "a0f0c449-f472-46be-c088-4e757c5a7b67"
      },
      "source": [
        "steps = [('Polynomial Features', PolynomialFeatures(degree=4)), \n",
        "         ('Standard Scalar', StandardScaler()),\n",
        "         ('Ridge', Ridge(alpha=0.1856))]\n",
        "ppb = Pipeline(steps)\n",
        "ppb.fit(X, y)\n",
        "ppb.score(X, y)"
      ],
      "execution_count": null,
      "outputs": [
        {
          "output_type": "execute_result",
          "data": {
            "text/plain": [
              "0.7544979102462047"
            ]
          },
          "metadata": {
            "tags": []
          },
          "execution_count": 35
        }
      ]
    },
    {
      "cell_type": "code",
      "metadata": {
        "colab": {
          "base_uri": "https://localhost:8080/"
        },
        "id": "3IBlfYFB5wOq",
        "outputId": "f1e747c7-596f-4bbd-8fa0-0aba81021c84"
      },
      "source": [
        "ppb.score(Xtest, ytest)"
      ],
      "execution_count": null,
      "outputs": [
        {
          "output_type": "execute_result",
          "data": {
            "text/plain": [
              "0.724286445791291"
            ]
          },
          "metadata": {
            "tags": []
          },
          "execution_count": 36
        }
      ]
    },
    {
      "cell_type": "code",
      "metadata": {
        "colab": {
          "base_uri": "https://localhost:8080/",
          "height": 286
        },
        "id": "Wqj7JEFw7DHz",
        "outputId": "323ec1f4-cf84-4823-e155-034d9b24c8b2"
      },
      "source": [
        "yp = ppb.predict(Xtest)\n",
        "\n",
        "plt.xlim((0, 500000))\n",
        "plt.ylim((0, 500000))\n",
        "plt.scatter(ytest, yp)"
      ],
      "execution_count": null,
      "outputs": [
        {
          "output_type": "execute_result",
          "data": {
            "text/plain": [
              "<matplotlib.collections.PathCollection at 0x7fa3b840a8d0>"
            ]
          },
          "metadata": {
            "tags": []
          },
          "execution_count": 38
        },
        {
          "output_type": "display_data",
          "data": {
            "image/png": "[encoded data removed]",
            "text/plain": [
              "<Figure size 432x288 with 1 Axes>"
            ]
          },
          "metadata": {
            "tags": [],
            "needs_background": "light"
          }
        }
      ]
    },
    {
      "cell_type": "markdown",
      "metadata": {
        "id": "67tbSN9M8ZcK"
      },
      "source": [
        "# Summary\n",
        "Overall, Since the best regression accuracy score found after the above analysis is between 70-75%, I would say that in order to improve the regression accuracy, we should find more information regarding the houses of california."
      ]
    },
    {
      "cell_type": "code",
      "metadata": {
        "colab": {
          "base_uri": "https://localhost:8080/",
          "height": 173
        },
        "id": "W3EaF01SqGP_",
        "outputId": "bc9b1f59-4d36-40e5-ef83-f96d821796ee"
      },
      "source": [
        "analysis_results\n",
        "Summary = pd.DataFrame(analysis_results).transpose()\n",
        "Summary.rename({0: 'R2 Score', 1: 'RMSE'}, axis=1, inplace=True)\n",
        "Summary"
      ],
      "execution_count": null,
      "outputs": [
        {
          "output_type": "execute_result",
          "data": {
            "text/html": [
              "<div>\n",
              "<style scoped>\n",
              "    .dataframe tbody tr th:only-of-type {\n",
              "        vertical-align: middle;\n",
              "    }\n",
              "\n",
              "    .dataframe tbody tr th {\n",
              "        vertical-align: top;\n",
              "    }\n",
              "\n",
              "    .dataframe thead th {\n",
              "        text-align: right;\n",
              "    }\n",
              "</style>\n",
              "<table border=\"1\" class=\"dataframe\">\n",
              "  <thead>\n",
              "    <tr style=\"text-align: right;\">\n",
              "      <th></th>\n",
              "      <th>R2 Score</th>\n",
              "      <th>RMSE</th>\n",
              "    </tr>\n",
              "  </thead>\n",
              "  <tbody>\n",
              "    <tr>\n",
              "      <th>Linear Regression</th>\n",
              "      <td>0.639413</td>\n",
              "      <td>69645.0</td>\n",
              "    </tr>\n",
              "    <tr>\n",
              "      <th>Ridge Regression</th>\n",
              "      <td>0.741237</td>\n",
              "      <td>58998.0</td>\n",
              "    </tr>\n",
              "    <tr>\n",
              "      <th>Linear Regression (Polynomial Features)</th>\n",
              "      <td>0.185014</td>\n",
              "      <td>104703.0</td>\n",
              "    </tr>\n",
              "    <tr>\n",
              "      <th>Lasso Regression</th>\n",
              "      <td>0.723293</td>\n",
              "      <td>61009.0</td>\n",
              "    </tr>\n",
              "  </tbody>\n",
              "</table>\n",
              "</div>"
            ],
            "text/plain": [
              "                                         R2 Score      RMSE\n",
              "Linear Regression                        0.639413   69645.0\n",
              "Ridge Regression                         0.741237   58998.0\n",
              "Linear Regression (Polynomial Features)  0.185014  104703.0\n",
              "Lasso Regression                         0.723293   61009.0"
            ]
          },
          "metadata": {
            "tags": []
          },
          "execution_count": 44
        }
      ]
    }
  ]
}